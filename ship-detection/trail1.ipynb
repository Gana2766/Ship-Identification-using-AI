{
 "cells": [
  {
   "cell_type": "code",
   "execution_count": 2,
   "id": "eb1b33ae",
   "metadata": {},
   "outputs": [
    {
     "ename": "ValueError",
     "evalue": "invalid literal for int() with base 10: 'C:\\\\Users\\\\Ganesh\\\\AppData\\\\Roaming\\\\jupyter\\\\runtime\\\\kernel-820a246d-7763-4a9a-9b6c-b92a05f607a6.json'",
     "output_type": "error",
     "traceback": [
      "\u001b[1;31m---------------------------------------------------------------------------\u001b[0m",
      "\u001b[1;31mValueError\u001b[0m                                Traceback (most recent call last)",
      "\u001b[1;32m<ipython-input-2-f1f239373d44>\u001b[0m in \u001b[0;36m<module>\u001b[1;34m\u001b[0m\n\u001b[0;32m     17\u001b[0m \u001b[1;33m\u001b[0m\u001b[0m\n\u001b[0;32m     18\u001b[0m \u001b[1;32mif\u001b[0m \u001b[0mlen\u001b[0m\u001b[1;33m(\u001b[0m\u001b[0msys\u001b[0m\u001b[1;33m.\u001b[0m\u001b[0margv\u001b[0m\u001b[1;33m)\u001b[0m \u001b[1;33m>\u001b[0m \u001b[1;36m2\u001b[0m\u001b[1;33m:\u001b[0m\u001b[1;33m\u001b[0m\u001b[1;33m\u001b[0m\u001b[0m\n\u001b[1;32m---> 19\u001b[1;33m     \u001b[0mepochsCMD\u001b[0m \u001b[1;33m=\u001b[0m \u001b[0mint\u001b[0m\u001b[1;33m(\u001b[0m\u001b[0msys\u001b[0m\u001b[1;33m.\u001b[0m\u001b[0margv\u001b[0m\u001b[1;33m[\u001b[0m\u001b[1;36m2\u001b[0m\u001b[1;33m]\u001b[0m\u001b[1;33m)\u001b[0m\u001b[1;33m\u001b[0m\u001b[1;33m\u001b[0m\u001b[0m\n\u001b[0m\u001b[0;32m     20\u001b[0m \u001b[1;32melse\u001b[0m\u001b[1;33m:\u001b[0m\u001b[1;33m\u001b[0m\u001b[1;33m\u001b[0m\u001b[0m\n\u001b[0;32m     21\u001b[0m     \u001b[0mepochsCMD\u001b[0m \u001b[1;33m=\u001b[0m \u001b[1;36m500\u001b[0m\u001b[1;33m\u001b[0m\u001b[1;33m\u001b[0m\u001b[0m\n",
      "\u001b[1;31mValueError\u001b[0m: invalid literal for int() with base 10: 'C:\\\\Users\\\\Ganesh\\\\AppData\\\\Roaming\\\\jupyter\\\\runtime\\\\kernel-820a246d-7763-4a9a-9b6c-b92a05f607a6.json'"
     ]
    }
   ],
   "source": [
    "from tensorflow.keras.callbacks import ReduceLROnPlateau, EarlyStopping, ModelCheckpoint\n",
    "from tensorflow.keras.models import save_model, load_model\n",
    "\n",
    "# from model_autoencoder import create_model\n",
    "# from model128_2 import create_model\n",
    "# from model128 import create_model\n",
    "\n",
    "from imagesequence import ImageSequence\n",
    "from modelUNET import create_model\n",
    "\n",
    "import datetime\n",
    "import sys\n",
    "import os\n",
    "\n",
    "os.environ['TF_CPP_MIN_LOG_LEVEL'] = '2'\n",
    "\n",
    "\n",
    "if len(sys.argv) > 2:\n",
    "    epochsCMD = int(sys.argv[2])\n",
    "else:\n",
    "    epochsCMD = 500\n",
    "if len(sys.argv) > 1:\n",
    "    print('Loading model from ' + sys.argv[1])\n",
    "    model = load_model(sys.argv[1])  # , custom_objects={'iou_loss': iou_loss})\n",
    "else:\n",
    "    print('Creating new model')\n",
    "    model = create_model()\n",
    "\n",
    "model.summary()\n",
    "onlyships128 = 'E:/Final Project  - Ship Detection/dataset/onlyship128'\n",
    "onlyshipsmasks128 = 'E:/Final Project  - Ship Detection/dataset/onlyshipmask128'\n",
    "g = ImageSequence(onlyships128, onlyshipsmasks128, batch_size=4, num_samples=1008, usecache=True)\n",
    "\n",
    "\n",
    "d = datetime.datetime.now().strftime('%Y_%m_%d_%H_%M')\n",
    "\n",
    "os.mkdir('model_cp_' + d)\n",
    "\n",
    "cb1 = ReduceLROnPlateau(monitor='loss', patience=10, cooldown=10,\n",
    "                        factor=0.96, min_lr=10e-5, verbose=1, min_delta=0)\n",
    "cb2 = EarlyStopping(monitor='loss', patience=20)\n",
    "cb3 = ModelCheckpoint(filepath='model_cp_' + d + '/model_cp{epoch}.h5', save_best_only=False, verbose=1)\n",
    "\n",
    "# model.fit(g, epochs=500, callbacks=[cb1,cb2,cb3], shuffle=True, validation_data=g_val)\n",
    "h = model.fit(g, epochs=epochsCMD, callbacks=[cb1, cb3], shuffle=True)\n",
    "lossmodel = h.history['loss']\n",
    "accmodel = h.history['acc']\n",
    "save_model(model, 'model_' + d + '.h5')\n",
    "print(lossmodel,accmodel)\n",
    "\n"
   ]
  },
  {
   "cell_type": "code",
   "execution_count": null,
   "id": "362bab72",
   "metadata": {},
   "outputs": [],
   "source": []
  }
 ],
 "metadata": {
  "kernelspec": {
   "display_name": "Python 3 (ipykernel)",
   "language": "python",
   "name": "python3"
  },
  "language_info": {
   "codemirror_mode": {
    "name": "ipython",
    "version": 3
   },
   "file_extension": ".py",
   "mimetype": "text/x-python",
   "name": "python",
   "nbconvert_exporter": "python",
   "pygments_lexer": "ipython3",
   "version": "3.9.7"
  }
 },
 "nbformat": 4,
 "nbformat_minor": 5
}
